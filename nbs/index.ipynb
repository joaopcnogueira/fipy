{
 "cells": [
  {
   "cell_type": "code",
   "execution_count": null,
   "metadata": {},
   "outputs": [],
   "source": [
    "#| hide\n",
    "%load_ext autoreload\n",
    "%autoreload 2"
   ]
  },
  {
   "cell_type": "code",
   "execution_count": null,
   "metadata": {},
   "outputs": [],
   "source": [
    "#| hide\n",
    "from pyfipe.core import *"
   ]
  },
  {
   "cell_type": "markdown",
   "metadata": {},
   "source": [
    "# pyfipe\n",
    "\n",
    "> A python package to make requests to fipe api"
   ]
  },
  {
   "cell_type": "markdown",
   "metadata": {},
   "source": [
    "## Install"
   ]
  },
  {
   "cell_type": "markdown",
   "metadata": {},
   "source": [
    "```sh\n",
    "pip install pyfipe\n",
    "```"
   ]
  },
  {
   "cell_type": "markdown",
   "metadata": {},
   "source": [
    "## How to use"
   ]
  },
  {
   "cell_type": "code",
   "execution_count": null,
   "metadata": {},
   "outputs": [],
   "source": [
    "import pandas as pd"
   ]
  },
  {
   "cell_type": "code",
   "execution_count": null,
   "metadata": {},
   "outputs": [],
   "source": [
    "from pyfipe.core import ConsultaFipe\n",
    "from pyfipe.tabelas import consulta_tabela_referencia, consulta_tabela_marcas, consulta_tabela_modelos"
   ]
  },
  {
   "cell_type": "code",
   "execution_count": null,
   "metadata": {},
   "outputs": [],
   "source": [
    "fipe = ConsultaFipe(\n",
    "    mes = 'agosto/2022',\n",
    "    tipo_veiculo = 'carro',\n",
    "    marca = 'VW - VolksWagen',\n",
    "    modelo = 'T-Cross Sense 1.0 TSI Flex 5p Aut.',\n",
    "    ano_modelo = 2021,\n",
    "    combustivel = 'Gasolina'\n",
    ")"
   ]
  },
  {
   "cell_type": "code",
   "execution_count": null,
   "metadata": {},
   "outputs": [
    {
     "data": {
      "text/html": [
       "<div>\n",
       "<style scoped>\n",
       "    .dataframe tbody tr th:only-of-type {\n",
       "        vertical-align: middle;\n",
       "    }\n",
       "\n",
       "    .dataframe tbody tr th {\n",
       "        vertical-align: top;\n",
       "    }\n",
       "\n",
       "    .dataframe thead th {\n",
       "        text-align: right;\n",
       "    }\n",
       "</style>\n",
       "<table border=\"1\" class=\"dataframe\">\n",
       "  <thead>\n",
       "    <tr style=\"text-align: right;\">\n",
       "      <th></th>\n",
       "      <th>Valor</th>\n",
       "      <th>Marca</th>\n",
       "      <th>Modelo</th>\n",
       "      <th>AnoModelo</th>\n",
       "      <th>Combustivel</th>\n",
       "      <th>CodigoFipe</th>\n",
       "      <th>MesReferencia</th>\n",
       "      <th>Autenticacao</th>\n",
       "      <th>TipoVeiculo</th>\n",
       "      <th>SiglaCombustivel</th>\n",
       "      <th>DataConsulta</th>\n",
       "    </tr>\n",
       "  </thead>\n",
       "  <tbody>\n",
       "    <tr>\n",
       "      <th>0</th>\n",
       "      <td>R$ 101.120,00</td>\n",
       "      <td>VW - VolksWagen</td>\n",
       "      <td>T-Cross Sense 1.0 TSI Flex 5p Aut.</td>\n",
       "      <td>2021</td>\n",
       "      <td>Gasolina</td>\n",
       "      <td>005520-4</td>\n",
       "      <td>agosto de 2022</td>\n",
       "      <td>f4wq6m4pj4djf</td>\n",
       "      <td>1</td>\n",
       "      <td>G</td>\n",
       "      <td>quarta-feira, 24 de agosto de 2022 12:04</td>\n",
       "    </tr>\n",
       "  </tbody>\n",
       "</table>\n",
       "</div>"
      ],
      "text/plain": [
       "           Valor            Marca                              Modelo  \\\n",
       "0  R$ 101.120,00  VW - VolksWagen  T-Cross Sense 1.0 TSI Flex 5p Aut.   \n",
       "\n",
       "   AnoModelo Combustivel CodigoFipe    MesReferencia   Autenticacao  \\\n",
       "0       2021    Gasolina   005520-4  agosto de 2022   f4wq6m4pj4djf   \n",
       "\n",
       "   TipoVeiculo SiglaCombustivel                              DataConsulta  \n",
       "0            1                G  quarta-feira, 24 de agosto de 2022 12:04  "
      ]
     },
     "execution_count": null,
     "metadata": {},
     "output_type": "execute_result"
    }
   ],
   "source": [
    "fipe.preco()"
   ]
  },
  {
   "cell_type": "code",
   "execution_count": null,
   "metadata": {},
   "outputs": [
    {
     "data": {
      "text/html": [
       "<div>\n",
       "<style scoped>\n",
       "    .dataframe tbody tr th:only-of-type {\n",
       "        vertical-align: middle;\n",
       "    }\n",
       "\n",
       "    .dataframe tbody tr th {\n",
       "        vertical-align: top;\n",
       "    }\n",
       "\n",
       "    .dataframe thead th {\n",
       "        text-align: right;\n",
       "    }\n",
       "</style>\n",
       "<table border=\"1\" class=\"dataframe\">\n",
       "  <thead>\n",
       "    <tr style=\"text-align: right;\">\n",
       "      <th></th>\n",
       "      <th>Valor</th>\n",
       "      <th>Marca</th>\n",
       "      <th>Modelo</th>\n",
       "      <th>AnoModelo</th>\n",
       "      <th>Combustivel</th>\n",
       "      <th>CodigoFipe</th>\n",
       "      <th>MesReferencia</th>\n",
       "      <th>Autenticacao</th>\n",
       "      <th>TipoVeiculo</th>\n",
       "      <th>SiglaCombustivel</th>\n",
       "      <th>DataConsulta</th>\n",
       "    </tr>\n",
       "  </thead>\n",
       "  <tbody>\n",
       "    <tr>\n",
       "      <th>0</th>\n",
       "      <td>R$ 94.854,00</td>\n",
       "      <td>VW - VolksWagen</td>\n",
       "      <td>T-Cross Sense 1.0 TSI Flex 5p Aut.</td>\n",
       "      <td>2021</td>\n",
       "      <td>Gasolina</td>\n",
       "      <td>005520-4</td>\n",
       "      <td>janeiro de 2022</td>\n",
       "      <td>cg6gzjs2n29fx</td>\n",
       "      <td>1</td>\n",
       "      <td>G</td>\n",
       "      <td>quarta-feira, 24 de agosto de 2022 12:04</td>\n",
       "    </tr>\n",
       "    <tr>\n",
       "      <th>0</th>\n",
       "      <td>R$ 97.518,00</td>\n",
       "      <td>VW - VolksWagen</td>\n",
       "      <td>T-Cross Sense 1.0 TSI Flex 5p Aut.</td>\n",
       "      <td>2021</td>\n",
       "      <td>Gasolina</td>\n",
       "      <td>005520-4</td>\n",
       "      <td>fevereiro de 2022</td>\n",
       "      <td>ch6p797h88mfx</td>\n",
       "      <td>1</td>\n",
       "      <td>G</td>\n",
       "      <td>quarta-feira, 24 de agosto de 2022 12:04</td>\n",
       "    </tr>\n",
       "    <tr>\n",
       "      <th>0</th>\n",
       "      <td>R$ 101.478,00</td>\n",
       "      <td>VW - VolksWagen</td>\n",
       "      <td>T-Cross Sense 1.0 TSI Flex 5p Aut.</td>\n",
       "      <td>2021</td>\n",
       "      <td>Gasolina</td>\n",
       "      <td>005520-4</td>\n",
       "      <td>março de 2022</td>\n",
       "      <td>f49rk6kznldjf</td>\n",
       "      <td>1</td>\n",
       "      <td>G</td>\n",
       "      <td>quarta-feira, 24 de agosto de 2022 12:04</td>\n",
       "    </tr>\n",
       "    <tr>\n",
       "      <th>0</th>\n",
       "      <td>R$ 102.808,00</td>\n",
       "      <td>VW - VolksWagen</td>\n",
       "      <td>T-Cross Sense 1.0 TSI Flex 5p Aut.</td>\n",
       "      <td>2021</td>\n",
       "      <td>Gasolina</td>\n",
       "      <td>005520-4</td>\n",
       "      <td>abril de 2022</td>\n",
       "      <td>f6v25c4673djf</td>\n",
       "      <td>1</td>\n",
       "      <td>G</td>\n",
       "      <td>quarta-feira, 24 de agosto de 2022 12:04</td>\n",
       "    </tr>\n",
       "    <tr>\n",
       "      <th>0</th>\n",
       "      <td>R$ 101.988,00</td>\n",
       "      <td>VW - VolksWagen</td>\n",
       "      <td>T-Cross Sense 1.0 TSI Flex 5p Aut.</td>\n",
       "      <td>2021</td>\n",
       "      <td>Gasolina</td>\n",
       "      <td>005520-4</td>\n",
       "      <td>maio de 2022</td>\n",
       "      <td>f5w868197ydjf</td>\n",
       "      <td>1</td>\n",
       "      <td>G</td>\n",
       "      <td>quarta-feira, 24 de agosto de 2022 12:04</td>\n",
       "    </tr>\n",
       "    <tr>\n",
       "      <th>0</th>\n",
       "      <td>R$ 101.854,00</td>\n",
       "      <td>VW - VolksWagen</td>\n",
       "      <td>T-Cross Sense 1.0 TSI Flex 5p Aut.</td>\n",
       "      <td>2021</td>\n",
       "      <td>Gasolina</td>\n",
       "      <td>005520-4</td>\n",
       "      <td>junho de 2022</td>\n",
       "      <td>f5rd7r84hvdjf</td>\n",
       "      <td>1</td>\n",
       "      <td>G</td>\n",
       "      <td>quarta-feira, 24 de agosto de 2022 12:04</td>\n",
       "    </tr>\n",
       "    <tr>\n",
       "      <th>0</th>\n",
       "      <td>R$ 102.021,00</td>\n",
       "      <td>VW - VolksWagen</td>\n",
       "      <td>T-Cross Sense 1.0 TSI Flex 5p Aut.</td>\n",
       "      <td>2021</td>\n",
       "      <td>Gasolina</td>\n",
       "      <td>005520-4</td>\n",
       "      <td>julho de 2022</td>\n",
       "      <td>f5yhd01kc3djf</td>\n",
       "      <td>1</td>\n",
       "      <td>G</td>\n",
       "      <td>quarta-feira, 24 de agosto de 2022 12:04</td>\n",
       "    </tr>\n",
       "    <tr>\n",
       "      <th>0</th>\n",
       "      <td>R$ 101.120,00</td>\n",
       "      <td>VW - VolksWagen</td>\n",
       "      <td>T-Cross Sense 1.0 TSI Flex 5p Aut.</td>\n",
       "      <td>2021</td>\n",
       "      <td>Gasolina</td>\n",
       "      <td>005520-4</td>\n",
       "      <td>agosto de 2022</td>\n",
       "      <td>f4wq6m4pj4djf</td>\n",
       "      <td>1</td>\n",
       "      <td>G</td>\n",
       "      <td>quarta-feira, 24 de agosto de 2022 12:04</td>\n",
       "    </tr>\n",
       "  </tbody>\n",
       "</table>\n",
       "</div>"
      ],
      "text/plain": [
       "           Valor            Marca                              Modelo  \\\n",
       "0   R$ 94.854,00  VW - VolksWagen  T-Cross Sense 1.0 TSI Flex 5p Aut.   \n",
       "0   R$ 97.518,00  VW - VolksWagen  T-Cross Sense 1.0 TSI Flex 5p Aut.   \n",
       "0  R$ 101.478,00  VW - VolksWagen  T-Cross Sense 1.0 TSI Flex 5p Aut.   \n",
       "0  R$ 102.808,00  VW - VolksWagen  T-Cross Sense 1.0 TSI Flex 5p Aut.   \n",
       "0  R$ 101.988,00  VW - VolksWagen  T-Cross Sense 1.0 TSI Flex 5p Aut.   \n",
       "0  R$ 101.854,00  VW - VolksWagen  T-Cross Sense 1.0 TSI Flex 5p Aut.   \n",
       "0  R$ 102.021,00  VW - VolksWagen  T-Cross Sense 1.0 TSI Flex 5p Aut.   \n",
       "0  R$ 101.120,00  VW - VolksWagen  T-Cross Sense 1.0 TSI Flex 5p Aut.   \n",
       "\n",
       "   AnoModelo Combustivel CodigoFipe       MesReferencia   Autenticacao  \\\n",
       "0       2021    Gasolina   005520-4    janeiro de 2022   cg6gzjs2n29fx   \n",
       "0       2021    Gasolina   005520-4  fevereiro de 2022   ch6p797h88mfx   \n",
       "0       2021    Gasolina   005520-4      março de 2022   f49rk6kznldjf   \n",
       "0       2021    Gasolina   005520-4      abril de 2022   f6v25c4673djf   \n",
       "0       2021    Gasolina   005520-4       maio de 2022   f5w868197ydjf   \n",
       "0       2021    Gasolina   005520-4      junho de 2022   f5rd7r84hvdjf   \n",
       "0       2021    Gasolina   005520-4      julho de 2022   f5yhd01kc3djf   \n",
       "0       2021    Gasolina   005520-4     agosto de 2022   f4wq6m4pj4djf   \n",
       "\n",
       "   TipoVeiculo SiglaCombustivel                              DataConsulta  \n",
       "0            1                G  quarta-feira, 24 de agosto de 2022 12:04  \n",
       "0            1                G  quarta-feira, 24 de agosto de 2022 12:04  \n",
       "0            1                G  quarta-feira, 24 de agosto de 2022 12:04  \n",
       "0            1                G  quarta-feira, 24 de agosto de 2022 12:04  \n",
       "0            1                G  quarta-feira, 24 de agosto de 2022 12:04  \n",
       "0            1                G  quarta-feira, 24 de agosto de 2022 12:04  \n",
       "0            1                G  quarta-feira, 24 de agosto de 2022 12:04  \n",
       "0            1                G  quarta-feira, 24 de agosto de 2022 12:04  "
      ]
     },
     "execution_count": null,
     "metadata": {},
     "output_type": "execute_result"
    }
   ],
   "source": [
    "meses = ['janeiro/2022', 'fevereiro/2022', 'março/2022', 'abril/2022', 'maio/2022', 'junho/2022', 'julho/2022', 'agosto/2022']\n",
    "\n",
    "df = pd.DataFrame()\n",
    "for mes in meses:\n",
    "    fipe.mes = mes\n",
    "    fipe.update_codigo_tabela_referencia()\n",
    "    df = pd.concat([df, fipe.preco()])\n",
    "\n",
    "df"
   ]
  },
  {
   "cell_type": "markdown",
   "metadata": {},
   "source": [
    "Caso queira consultar apenas a tabela de referência da fipe:"
   ]
  },
  {
   "cell_type": "code",
   "execution_count": null,
   "metadata": {},
   "outputs": [
    {
     "data": {
      "text/html": [
       "<div>\n",
       "<style scoped>\n",
       "    .dataframe tbody tr th:only-of-type {\n",
       "        vertical-align: middle;\n",
       "    }\n",
       "\n",
       "    .dataframe tbody tr th {\n",
       "        vertical-align: top;\n",
       "    }\n",
       "\n",
       "    .dataframe thead th {\n",
       "        text-align: right;\n",
       "    }\n",
       "</style>\n",
       "<table border=\"1\" class=\"dataframe\">\n",
       "  <thead>\n",
       "    <tr style=\"text-align: right;\">\n",
       "      <th></th>\n",
       "      <th>codigo_mes</th>\n",
       "      <th>mes</th>\n",
       "    </tr>\n",
       "  </thead>\n",
       "  <tbody>\n",
       "    <tr>\n",
       "      <th>0</th>\n",
       "      <td>288</td>\n",
       "      <td>agosto/2022</td>\n",
       "    </tr>\n",
       "    <tr>\n",
       "      <th>1</th>\n",
       "      <td>287</td>\n",
       "      <td>julho/2022</td>\n",
       "    </tr>\n",
       "    <tr>\n",
       "      <th>2</th>\n",
       "      <td>286</td>\n",
       "      <td>junho/2022</td>\n",
       "    </tr>\n",
       "    <tr>\n",
       "      <th>3</th>\n",
       "      <td>285</td>\n",
       "      <td>maio/2022</td>\n",
       "    </tr>\n",
       "    <tr>\n",
       "      <th>4</th>\n",
       "      <td>284</td>\n",
       "      <td>abril/2022</td>\n",
       "    </tr>\n",
       "    <tr>\n",
       "      <th>...</th>\n",
       "      <td>...</td>\n",
       "      <td>...</td>\n",
       "    </tr>\n",
       "    <tr>\n",
       "      <th>255</th>\n",
       "      <td>69</td>\n",
       "      <td>maio/2001</td>\n",
       "    </tr>\n",
       "    <tr>\n",
       "      <th>256</th>\n",
       "      <td>68</td>\n",
       "      <td>abril/2001</td>\n",
       "    </tr>\n",
       "    <tr>\n",
       "      <th>257</th>\n",
       "      <td>67</td>\n",
       "      <td>março/2001</td>\n",
       "    </tr>\n",
       "    <tr>\n",
       "      <th>258</th>\n",
       "      <td>63</td>\n",
       "      <td>fevereiro/2001</td>\n",
       "    </tr>\n",
       "    <tr>\n",
       "      <th>259</th>\n",
       "      <td>62</td>\n",
       "      <td>janeiro/2001</td>\n",
       "    </tr>\n",
       "  </tbody>\n",
       "</table>\n",
       "<p>260 rows × 2 columns</p>\n",
       "</div>"
      ],
      "text/plain": [
       "     codigo_mes             mes\n",
       "0           288     agosto/2022\n",
       "1           287      julho/2022\n",
       "2           286      junho/2022\n",
       "3           285       maio/2022\n",
       "4           284      abril/2022\n",
       "..          ...             ...\n",
       "255          69       maio/2001\n",
       "256          68      abril/2001\n",
       "257          67      março/2001\n",
       "258          63  fevereiro/2001\n",
       "259          62    janeiro/2001\n",
       "\n",
       "[260 rows x 2 columns]"
      ]
     },
     "execution_count": null,
     "metadata": {},
     "output_type": "execute_result"
    }
   ],
   "source": [
    "consulta_tabela_referencia()"
   ]
  },
  {
   "cell_type": "markdown",
   "metadata": {},
   "source": [
    "Caso não saiba qual o código da marca do seu carro, poderá fazer uma busca na tabela de marcas:"
   ]
  },
  {
   "cell_type": "code",
   "execution_count": null,
   "metadata": {},
   "outputs": [
    {
     "data": {
      "text/html": [
       "<div>\n",
       "<style scoped>\n",
       "    .dataframe tbody tr th:only-of-type {\n",
       "        vertical-align: middle;\n",
       "    }\n",
       "\n",
       "    .dataframe tbody tr th {\n",
       "        vertical-align: top;\n",
       "    }\n",
       "\n",
       "    .dataframe thead th {\n",
       "        text-align: right;\n",
       "    }\n",
       "</style>\n",
       "<table border=\"1\" class=\"dataframe\">\n",
       "  <thead>\n",
       "    <tr style=\"text-align: right;\">\n",
       "      <th></th>\n",
       "      <th>marca</th>\n",
       "      <th>codigo_marca</th>\n",
       "      <th>mes</th>\n",
       "    </tr>\n",
       "  </thead>\n",
       "  <tbody>\n",
       "    <tr>\n",
       "      <th>0</th>\n",
       "      <td>Acura</td>\n",
       "      <td>1</td>\n",
       "      <td>agosto/2022</td>\n",
       "    </tr>\n",
       "    <tr>\n",
       "      <th>1</th>\n",
       "      <td>Agrale</td>\n",
       "      <td>2</td>\n",
       "      <td>agosto/2022</td>\n",
       "    </tr>\n",
       "    <tr>\n",
       "      <th>2</th>\n",
       "      <td>Alfa Romeo</td>\n",
       "      <td>3</td>\n",
       "      <td>agosto/2022</td>\n",
       "    </tr>\n",
       "    <tr>\n",
       "      <th>3</th>\n",
       "      <td>AM Gen</td>\n",
       "      <td>4</td>\n",
       "      <td>agosto/2022</td>\n",
       "    </tr>\n",
       "    <tr>\n",
       "      <th>4</th>\n",
       "      <td>Asia Motors</td>\n",
       "      <td>5</td>\n",
       "      <td>agosto/2022</td>\n",
       "    </tr>\n",
       "    <tr>\n",
       "      <th>...</th>\n",
       "      <td>...</td>\n",
       "      <td>...</td>\n",
       "      <td>...</td>\n",
       "    </tr>\n",
       "    <tr>\n",
       "      <th>87</th>\n",
       "      <td>Troller</td>\n",
       "      <td>57</td>\n",
       "      <td>agosto/2022</td>\n",
       "    </tr>\n",
       "    <tr>\n",
       "      <th>88</th>\n",
       "      <td>Volvo</td>\n",
       "      <td>58</td>\n",
       "      <td>agosto/2022</td>\n",
       "    </tr>\n",
       "    <tr>\n",
       "      <th>89</th>\n",
       "      <td>VW - VolksWagen</td>\n",
       "      <td>59</td>\n",
       "      <td>agosto/2022</td>\n",
       "    </tr>\n",
       "    <tr>\n",
       "      <th>90</th>\n",
       "      <td>Wake</td>\n",
       "      <td>163</td>\n",
       "      <td>agosto/2022</td>\n",
       "    </tr>\n",
       "    <tr>\n",
       "      <th>91</th>\n",
       "      <td>Walk</td>\n",
       "      <td>120</td>\n",
       "      <td>agosto/2022</td>\n",
       "    </tr>\n",
       "  </tbody>\n",
       "</table>\n",
       "<p>92 rows × 3 columns</p>\n",
       "</div>"
      ],
      "text/plain": [
       "              marca codigo_marca          mes\n",
       "0             Acura            1  agosto/2022\n",
       "1            Agrale            2  agosto/2022\n",
       "2        Alfa Romeo            3  agosto/2022\n",
       "3            AM Gen            4  agosto/2022\n",
       "4       Asia Motors            5  agosto/2022\n",
       "..              ...          ...          ...\n",
       "87          Troller           57  agosto/2022\n",
       "88            Volvo           58  agosto/2022\n",
       "89  VW - VolksWagen           59  agosto/2022\n",
       "90             Wake          163  agosto/2022\n",
       "91             Walk          120  agosto/2022\n",
       "\n",
       "[92 rows x 3 columns]"
      ]
     },
     "execution_count": null,
     "metadata": {},
     "output_type": "execute_result"
    }
   ],
   "source": [
    "tabela_marcas = consulta_tabela_marcas(mes='agosto/2022', tipo_veiculo='carro')\n",
    "tabela_marcas"
   ]
  },
  {
   "cell_type": "code",
   "execution_count": null,
   "metadata": {},
   "outputs": [
    {
     "data": {
      "text/html": [
       "<div>\n",
       "<style scoped>\n",
       "    .dataframe tbody tr th:only-of-type {\n",
       "        vertical-align: middle;\n",
       "    }\n",
       "\n",
       "    .dataframe tbody tr th {\n",
       "        vertical-align: top;\n",
       "    }\n",
       "\n",
       "    .dataframe thead th {\n",
       "        text-align: right;\n",
       "    }\n",
       "</style>\n",
       "<table border=\"1\" class=\"dataframe\">\n",
       "  <thead>\n",
       "    <tr style=\"text-align: right;\">\n",
       "      <th></th>\n",
       "      <th>marca</th>\n",
       "      <th>codigo_marca</th>\n",
       "      <th>mes</th>\n",
       "    </tr>\n",
       "  </thead>\n",
       "  <tbody>\n",
       "    <tr>\n",
       "      <th>89</th>\n",
       "      <td>VW - VolksWagen</td>\n",
       "      <td>59</td>\n",
       "      <td>agosto/2022</td>\n",
       "    </tr>\n",
       "  </tbody>\n",
       "</table>\n",
       "</div>"
      ],
      "text/plain": [
       "              marca codigo_marca          mes\n",
       "89  VW - VolksWagen           59  agosto/2022"
      ]
     },
     "execution_count": null,
     "metadata": {},
     "output_type": "execute_result"
    }
   ],
   "source": [
    "tabela_marcas[fipe.tabela_marcas['marca'].str.contains('vw', case=False)]"
   ]
  },
  {
   "cell_type": "markdown",
   "metadata": {},
   "source": [
    "Caso não saiba qual o código e descrição do seu modelo, pode consultar na tabela de modelos"
   ]
  },
  {
   "cell_type": "code",
   "execution_count": null,
   "metadata": {},
   "outputs": [
    {
     "ename": "",
     "evalue": "",
     "output_type": "error",
     "traceback": [
      "\u001b[1;31mFailed to start the Kernel. \n",
      "\u001b[1;31mBad file descriptor (C:\\Users\\runneradmin\\AppData\\Local\\Temp\\tmpw8fxpxar\\build\\_deps\\bundled_libzmq-src\\src\\epoll.cpp:73). \n",
      "\u001b[1;31mView Jupyter <a href='command:jupyter.viewOutput'>log</a> for further details."
     ]
    }
   ],
   "source": [
    "tabela_modelos = consulta_tabela_modelos(mes='agosto/2022', tipo_veiculo='carro', codigo_marca=59)\n",
    "tabela_modelos"
   ]
  },
  {
   "cell_type": "code",
   "execution_count": null,
   "metadata": {},
   "outputs": [
    {
     "ename": "",
     "evalue": "",
     "output_type": "error",
     "traceback": [
      "\u001b[1;31mFailed to start the Kernel. \n",
      "\u001b[1;31mBad file descriptor (C:\\Users\\runneradmin\\AppData\\Local\\Temp\\tmpw8fxpxar\\build\\_deps\\bundled_libzmq-src\\src\\epoll.cpp:73). \n",
      "\u001b[1;31mView Jupyter <a href='command:jupyter.viewOutput'>log</a> for further details."
     ]
    }
   ],
   "source": [
    "tabela_modelos[tabela_modelos['modelo'].str.contains('t-cross', case=False)]"
   ]
  },
  {
   "cell_type": "markdown",
   "metadata": {},
   "source": [
    "Caso não saiba qual o Ano Modelo, pode consultar na tabela de Ano Modelo."
   ]
  },
  {
   "cell_type": "code",
   "execution_count": null,
   "metadata": {},
   "outputs": [
    {
     "ename": "",
     "evalue": "",
     "output_type": "error",
     "traceback": [
      "\u001b[1;31mFailed to start the Kernel. \n",
      "\u001b[1;31mBad file descriptor (C:\\Users\\runneradmin\\AppData\\Local\\Temp\\tmpw8fxpxar\\build\\_deps\\bundled_libzmq-src\\src\\epoll.cpp:73). \n",
      "\u001b[1;31mView Jupyter <a href='command:jupyter.viewOutput'>log</a> for further details."
     ]
    }
   ],
   "source": [
    "tabela_ano_modelo = consulta_tabela_ano_modelo(mes='agosto/2022', tipo_veiculo='carro', codigo_marca=21, codigo_modelo=7540)\n",
    "tabela_ano_modelo"
   ]
  }
 ],
 "metadata": {
  "kernelspec": {
   "display_name": "Python 3.9.12 ('fipy')",
   "language": "python",
   "name": "python3"
  },
  "language_info": {
   "name": "python",
   "version": "3.11.9"
  }
 },
 "nbformat": 4,
 "nbformat_minor": 4
}
